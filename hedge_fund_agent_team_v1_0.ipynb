{
  "nbformat": 4,
  "nbformat_minor": 0,
  "metadata": {
    "colab": {
      "provenance": [],
      "include_colab_link": true
    },
    "kernelspec": {
      "name": "python3",
      "display_name": "Python 3"
    },
    "language_info": {
      "name": "python"
    }
  },
  "cells": [
    {
      "cell_type": "markdown",
      "metadata": {
        "id": "view-in-github",
        "colab_type": "text"
      },
      "source": [
        "<a href=\"https://colab.research.google.com/github/zohebk/youtube_video_code/blob/master/hedge_fund_agent_team_v1_0.ipynb\" target=\"_parent\"><img src=\"https://colab.research.google.com/assets/colab-badge.svg\" alt=\"Open In Colab\"/></a>"
      ]
    },
    {
      "cell_type": "markdown",
      "source": [
        "This notebook provides a tutorial on how to use multi-agents with LangGraph.\n",
        "\n",
        "Specifically, we use the **supervisor** pattern, where we have 1 supervisor agent and 2 analyst agents:\n",
        "1. web analyst (does web searching)\n",
        "2. financial analyst (does financial search)\n",
        "\n",
        "This code will be a part of an evolving series.\n",
        "\n",
        "If you have any questions, please message me on X at [virattt](https://twitter.com/virattt)."
      ],
      "metadata": {
        "id": "Xp0Uq2g0uLxb"
      }
    },
    {
      "cell_type": "markdown",
      "source": [
        "# Setup"
      ],
      "metadata": {
        "id": "xYivxWv2b6SW"
      }
    },
    {
      "cell_type": "code",
      "execution_count": null,
      "metadata": {
        "id": "unPP2JGqble1"
      },
      "outputs": [],
      "source": [
        "%%capture --no-stderr\n",
        "%pip install -U langgraph langchain langchain_openai langchain_experimental langsmith pandas"
      ]
    },
    {
      "cell_type": "code",
      "source": [
        "import getpass\n",
        "import os\n",
        "\n",
        "\n",
        "def _set_if_undefined(var: str):\n",
        "    if not os.environ.get(var):\n",
        "        os.environ[var] = getpass.getpass(f\"Please provide your {var}\")\n",
        "\n",
        "\n",
        "_set_if_undefined(\"OPENAI_API_KEY\")               # Get from https://platform.openai.com\n",
        "_set_if_undefined(\"FINANCIAL_DATASETS_API_KEY\")   # Get from https://financialdatasets.ai\n",
        "_set_if_undefined(\"TAVILY_API_KEY\")               # Get from https://tavily.com"
      ],
      "metadata": {
        "colab": {
          "base_uri": "https://localhost:8080/"
        },
        "id": "5zJ1jU9-b9WS",
        "outputId": "5b7cbbaa-69c7-48b6-b7b6-c808b8c34a95"
      },
      "execution_count": null,
      "outputs": [
        {
          "name": "stdout",
          "output_type": "stream",
          "text": [
            "Please provide your OPENAI_API_KEY··········\n",
            "Please provide your FINANCIAL_DATASETS_API_KEY··········\n",
            "Please provide your TAVILY_API_KEY··········\n"
          ]
        }
      ]
    },
    {
      "cell_type": "markdown",
      "source": [
        "# Define agent tools"
      ],
      "metadata": {
        "id": "iADG-Tp3b--h"
      }
    },
    {
      "cell_type": "code",
      "source": [
        "from langchain_core.tools import tool\n",
        "from typing import List, Dict, Optional\n",
        "\n",
        "from typing import List, Dict, Optional, Union\n",
        "import requests\n",
        "import os\n",
        "from typing import Dict, Union\n",
        "from pydantic import BaseModel, Field\n",
        "import requests\n",
        "from langchain_core.tools import tool\n",
        "\n",
        "class GetIncomeStatementsInput(BaseModel):\n",
        "    ticker: str = Field(..., description=\"The ticker of the stock.\")\n",
        "    period: str = Field(default=\"ttm\", description=\"The period of the income statements. Valid values are 'ttm', 'quarterly' or 'annual'.\")\n",
        "    limit: int = Field(default=10, description=\"The maximum number of income statements to return. Default is 10.\")\n",
        "\n",
        "@tool(\"get_income_statements\", args_schema=GetIncomeStatementsInput, return_direct=True)\n",
        "def get_income_statements(ticker: str, period: str = \"ttm\", limit: int = 10) -> Union[Dict, str]:\n",
        "    \"\"\"\n",
        "    Get income statements for a ticker with specified period and limit.\n",
        "    \"\"\"\n",
        "    api_key = os.environ.get(\"FINANCIAL_DATASETS_API_KEY\")\n",
        "    if not api_key:\n",
        "        raise ValueError(\"Missing FINANCIAL_DATASETS_API_KEY.\")\n",
        "\n",
        "    url = (\n",
        "        f'https://api.financialdatasets.ai/financials/income-statements'\n",
        "        f'?ticker={ticker}'\n",
        "        f'&period={period}'\n",
        "        f'&limit={limit}'\n",
        "    )\n",
        "\n",
        "    try:\n",
        "        response = requests.get(url, headers={'X-API-Key': api_key})\n",
        "        return response.json()\n",
        "    except Exception as e:\n",
        "        return {\"ticker\": ticker, \"income_statements\": [], \"error\": str(e)}\n",
        "\n",
        "class GetBalanceSheetsInput(BaseModel):\n",
        "    ticker: str = Field(..., description=\"The ticker of the stock.\")\n",
        "    period: str = Field(default=\"ttm\", description=\"The period of the balance sheets. Valid values are 'ttm', 'quarterly' or 'annual'.\")\n",
        "    limit: int = Field(default=10, description=\"The maximum number of balance sheets to return. Default is 10.\")\n",
        "\n",
        "@tool(\"get_balance_sheets\", args_schema=GetBalanceSheetsInput, return_direct=True)\n",
        "def get_balance_sheets(ticker: str, period: str = \"ttm\", limit: int = 10) -> Union[Dict, str]:\n",
        "    \"\"\"\n",
        "    Get balance sheets for a ticker with specified period and limit.\n",
        "    \"\"\"\n",
        "    api_key = os.environ.get(\"FINANCIAL_DATASETS_API_KEY\")\n",
        "    if not api_key:\n",
        "        raise ValueError(\"Missing FINANCIAL_DATASETS_API_KEY.\")\n",
        "\n",
        "    url = (\n",
        "        f'https://api.financialdatasets.ai/financials/balance-sheets'\n",
        "        f'?ticker={ticker}'\n",
        "        f'&period={period}'\n",
        "        f'&limit={limit}'\n",
        "    )\n",
        "\n",
        "    try:\n",
        "        response = requests.get(url, headers={'X-API-Key': api_key})\n",
        "        return response.json()\n",
        "    except Exception as e:\n",
        "        return {\"ticker\": ticker, \"balance_sheets\": [], \"error\": str(e)}\n",
        "\n",
        "class GetCashFlowStatementsInput(BaseModel):\n",
        "    ticker: str = Field(..., description=\"The ticker of the stock.\")\n",
        "    period: str = Field(default=\"ttm\", description=\"The period of the cash flow statements. Valid values are 'ttm', 'quarterly' or 'annual'.\")\n",
        "    limit: int = Field(default=10, description=\"The maximum number of cash flow statements to return. Default is 10.\")\n",
        "\n",
        "@tool(\"get_cash_flow_statements\", args_schema=GetCashFlowStatementsInput, return_direct=True)\n",
        "def get_cash_flow_statements(ticker: str, period: str = \"ttm\", limit: int = 10) -> Union[Dict, str]:\n",
        "    \"\"\"\n",
        "    Get cash flow statements for a ticker with specified period and limit.\n",
        "    \"\"\"\n",
        "    api_key = os.environ.get(\"FINANCIAL_DATASETS_API_KEY\")\n",
        "    if not api_key:\n",
        "        raise ValueError(\"Missing FINANCIAL_DATASETS_API_KEY.\")\n",
        "\n",
        "    url = (\n",
        "        f'https://api.financialdatasets.ai/financials/cash-flow-statements'\n",
        "        f'?ticker={ticker}'\n",
        "        f'&period={period}'\n",
        "        f'&limit={limit}'\n",
        "    )\n",
        "\n",
        "    try:\n",
        "        response = requests.get(url, headers={'X-API-Key': api_key})\n",
        "        return response.json()\n",
        "    except Exception as e:\n",
        "        return {\"ticker\": ticker, \"cash_flow_statements\": [], \"error\": str(e)}\n",
        "\n",
        "class GetPricesInput(BaseModel):\n",
        "    ticker: str = Field(..., description=\"The ticker of the stock.\")\n",
        "    start_date: str = Field(..., description=\"The start of the price time window. Either a date with the format YYYY-MM-DD or a millisecond timestamp.\")\n",
        "    end_date: str = Field(..., description=\"The end of the aggregate time window. Either a date with the format YYYY-MM-DD or a millisecond timestamp.\")\n",
        "    interval: str = Field(default=\"day\", description=\"The time interval of the prices. Valid values are second', 'minute', 'day', 'week', 'month', 'quarter', 'year'.\")\n",
        "    interval_multiplier: int = Field(default=1, description=\"The multiplier for the interval. For example, if interval is 'day' and interval_multiplier is 1, the prices will be daily. If interval is 'minute' and interval_multiplier is 5, the prices will be every 5 minutes.\")\n",
        "    limit: int = Field(default=5000, description=\"The maximum number of prices to return. The default is 5000 and the maximum is 50000.\")\n",
        "\n",
        "@tool(\"get_stock_prices\", args_schema=GetPricesInput, return_direct=True)\n",
        "def get_stock_prices(ticker: str, start_date: str, end_date: str, interval: str, interval_multiplier: int = 1, limit: int = 5000) -> Union[Dict, str]:\n",
        "    \"\"\"\n",
        "    Get prices for a ticker over a given date range and interval.\n",
        "    \"\"\"\n",
        "\n",
        "    api_key = os.environ.get(\"FINANCIAL_DATASETS_API_KEY\")\n",
        "    if not api_key:\n",
        "        raise ValueError(\"Missing FINANCIAL_DATASETS_API_KEY.\")\n",
        "    url = (\n",
        "        f\"https://api.financialdatasets.ai/prices\"\n",
        "        f\"?ticker={ticker}\"\n",
        "        f\"&start_date={start_date}\"\n",
        "        f\"&end_date={end_date}\"\n",
        "        f\"&interval={interval}\"\n",
        "        f\"&interval_multiplier={interval_multiplier}\"\n",
        "        f\"&limit={limit}\"\n",
        "    )\n",
        "\n",
        "    try:\n",
        "        response = requests.get(url, headers={'X-API-Key': api_key})\n",
        "        data = response.json()\n",
        "        return data\n",
        "    except Exception as e:\n",
        "        return {\"ticker\": ticker, \"prices\": [], \"error\": str(e)}\n",
        "\n",
        "class GetOptionsChainInput(BaseModel):\n",
        "    ticker: str = Field(..., description=\"The ticker of the stock.\")\n",
        "    limit: int = Field(default=10, description=\"The maximum number of options to return. Default is 10.\")\n",
        "    strike_price: Optional[float] = Field(default=None, description=\"Optional filter for specific strike price.\")\n",
        "    option_type: Optional[str] = Field(default=None, description=\"Optional filter for option type. Valid values are 'call' or 'put'.\")\n",
        "\n",
        "@tool(\"get_options_chain\", args_schema=GetOptionsChainInput, return_direct=True)\n",
        "def get_options_chain(\n",
        "    ticker: str,\n",
        "    limit: int = 10,\n",
        "    strike_price: Optional[float] = None,\n",
        "    option_type: Optional[str] = None\n",
        ") -> Union[Dict, str]:\n",
        "    \"\"\"\n",
        "    Get options chain data for a ticker with optional filters for strike price and option type.\n",
        "    \"\"\"\n",
        "    api_key = os.environ.get(\"FINANCIAL_DATASETS_API_KEY\")\n",
        "    if not api_key:\n",
        "        raise ValueError(\"Missing FINANCIAL_DATASETS_API_KEY.\")\n",
        "\n",
        "    params = {\n",
        "        'ticker': ticker,\n",
        "        'limit': limit\n",
        "    }\n",
        "\n",
        "    if strike_price is not None:\n",
        "        params['strike_price'] = strike_price\n",
        "    if option_type is not None:\n",
        "        params['option_type'] = option_type\n",
        "\n",
        "    url = 'https://api.financialdatasets.ai/options/chain'\n",
        "\n",
        "    try:\n",
        "        response = requests.get(url, headers={'X-API-Key': api_key}, params=params)\n",
        "        return response.json()\n",
        "    except Exception as e:\n",
        "        return {\"ticker\": ticker, \"options_chain\": [], \"error\": str(e)}\n",
        "\n",
        "class GetInsiderTradesInput(BaseModel):\n",
        "    ticker: str = Field(..., description=\"The ticker of the stock.\")\n",
        "    limit: int = Field(default=10, description=\"The maximum number of insider transactions to return. Default is 10.\")\n",
        "\n",
        "@tool(\"get_insider_trades\", args_schema=GetInsiderTradesInput, return_direct=True)\n",
        "def get_insider_trades(ticker: str, limit: int = 10) -> Union[Dict, str]:\n",
        "    \"\"\"\n",
        "    Get insider trading transactions for a ticker.\n",
        "    \"\"\"\n",
        "    api_key = os.environ.get(\"FINANCIAL_DATASETS_API_KEY\")\n",
        "    if not api_key:\n",
        "        raise ValueError(\"Missing FINANCIAL_DATASETS_API_KEY.\")\n",
        "\n",
        "    url = (\n",
        "        f'https://api.financialdatasets.ai/insider-transactions'\n",
        "        f'?ticker={ticker}'\n",
        "        f'&limit={limit}'\n",
        "    )\n",
        "\n",
        "    try:\n",
        "        response = requests.get(url, headers={'X-API-Key': api_key})\n",
        "        return response.json()\n",
        "    except Exception as e:\n",
        "        return {\"ticker\": ticker, \"insider_transactions\": [], \"error\": str(e)}"
      ],
      "metadata": {
        "id": "twLVNqHMb_w9"
      },
      "execution_count": null,
      "outputs": []
    },
    {
      "cell_type": "code",
      "source": [
        "# News tool\n",
        "from typing import Annotated\n",
        "\n",
        "from langchain_community.tools.tavily_search import TavilySearchResults\n",
        "\n",
        "get_news_tool = TavilySearchResults(max_results=5)"
      ],
      "metadata": {
        "id": "SuI_X2SXv7Ek"
      },
      "execution_count": null,
      "outputs": []
    },
    {
      "cell_type": "code",
      "source": [
        "# Group tools by analyst\n",
        "fundamental_tools = [get_income_statements, get_balance_sheets, get_cash_flow_statements]\n",
        "technical_tools = [get_stock_prices]\n",
        "sentiment_tools = [get_options_chain, get_insider_trades, get_news_tool]"
      ],
      "metadata": {
        "id": "yF2AxTgSvEee"
      },
      "execution_count": null,
      "outputs": []
    },
    {
      "cell_type": "markdown",
      "source": [
        "# Helper functions"
      ],
      "metadata": {
        "id": "F0N8OtbbcG0L"
      }
    },
    {
      "cell_type": "code",
      "source": [
        "from langchain_core.messages import HumanMessage\n",
        "\n",
        "def agent_node(state, agent, name):\n",
        "    result = agent.invoke(state)\n",
        "    return {\n",
        "        \"messages\": [HumanMessage(content=result[\"messages\"][-1].content, name=name)]\n",
        "    }"
      ],
      "metadata": {
        "id": "I7LhGDuEcCpC"
      },
      "execution_count": null,
      "outputs": []
    },
    {
      "cell_type": "markdown",
      "source": [
        "# Create LangGraph"
      ],
      "metadata": {
        "id": "v5LtjrI-cJ1P"
      }
    },
    {
      "cell_type": "code",
      "source": [
        "from langchain_core.prompts import ChatPromptTemplate, MessagesPlaceholder\n",
        "from langchain_openai import ChatOpenAI\n",
        "from pydantic import BaseModel\n",
        "from typing import Literal, Sequence\n",
        "from typing_extensions import TypedDict\n",
        "import functools\n",
        "import operator\n",
        "from langchain_core.messages import BaseMessage, HumanMessage\n",
        "from langgraph.graph import END, StateGraph, START\n",
        "from langgraph.prebuilt import create_react_agent\n",
        "\n",
        "# Define team members\n",
        "members = [\"fundamental_analyst\", \"technical_analyst\", \"sentiment_analyst\"]\n",
        "\n",
        "class RouteResponse(BaseModel):\n",
        "    next: Literal[\"FINISH\", \"fundamental_analyst\", \"technical_analyst\", \"sentiment_analyst\"]\n",
        "\n",
        "# Supervisor prompt (routing)\n",
        "system_prompt = (\n",
        "    \"You are a portfolio manager supervising a hedge fund team with the following analysts:\"\n",
        "    \" {members}. Each analyst has specific expertise:\"\n",
        "    \"\\n- fundamental_analyst: Analyzes financial statements and company health\"\n",
        "    \"\\n- technical_analyst: Analyzes price patterns and market trends\"\n",
        "    \"\\n- sentiment_analyst: Analyzes insider trading activity, options flow, and the news\"\n",
        "    \"\\nGiven the user request, determine which analyst should act next.\"\n",
        "    \" Each analyst will analyze one ticker and provide their findings.\"\n",
        "    \" When all necessary analysis is complete, respond with FINISH.\"\n",
        ")\n",
        "\n",
        "def agent_node(state, agent, name):\n",
        "    result = agent.invoke(state)\n",
        "    return {\n",
        "        \"messages\": [HumanMessage(content=result[\"messages\"][-1].content, name=name)]\n",
        "    }\n",
        "\n",
        "# Create the routing prompt template\n",
        "routing_prompt = ChatPromptTemplate.from_messages(\n",
        "    [\n",
        "        (\"system\", system_prompt),\n",
        "        MessagesPlaceholder(variable_name=\"messages\"),\n",
        "        (\n",
        "            \"system\",\n",
        "            \"Given the conversation above, who should act next?\"\n",
        "            \" Or should we FINISH? Select one of: {options}\",\n",
        "        ),\n",
        "    ]\n",
        ").partial(options=str([\"FINISH\"] + members), members=\", \".join(members))\n",
        "\n",
        "# Create the summary prompt template\n",
        "summary_prompt = ChatPromptTemplate.from_messages(\n",
        "    [\n",
        "        (\n",
        "            \"system\",\n",
        "            \"You are a portfolio manager responsible for synthesizing analysis from your team of analysts. \"\n",
        "            \"Review all the analysts' reports and provide a comprehensive summary including:\\n\"\n",
        "            \"1. Key financial metrics and their implications\\n\"\n",
        "            \"2. Technical analysis insights\\n\"\n",
        "            \"3. Market sentiment and news impact\\n\"\n",
        "            \"4. Overall investment recommendation\\n\"\n",
        "            \"Make sure to highlight any discrepancies or conflicting signals between different analyses.\"\n",
        "        ),\n",
        "        MessagesPlaceholder(variable_name=\"messages\"),\n",
        "        (\n",
        "            \"human\",\n",
        "            \"Based on all the analyst reports above, provide a comprehensive summary and investment recommendation.\"\n",
        "        ),\n",
        "    ]\n",
        ")\n",
        "\n",
        "# Initialize LLM\n",
        "llm = ChatOpenAI(model=\"gpt-4\")\n",
        "\n",
        "def supervisor_agent(state):\n",
        "    supervisor_chain = routing_prompt | llm.with_structured_output(RouteResponse)\n",
        "    result = supervisor_chain.invoke(state)\n",
        "    if result.next == \"FINISH\":\n",
        "        # When FINISH is selected, we pass the current state to final_summary\n",
        "        return {\n",
        "            \"messages\": state[\"messages\"],\n",
        "            \"next\": \"final_summary\"\n",
        "        }\n",
        "    return {\"next\": result.next}\n",
        "\n",
        "def final_summary_agent(state):\n",
        "    \"\"\"Create final summary of all analyst reports\"\"\"\n",
        "    summary_chain = summary_prompt | llm\n",
        "    result = summary_chain.invoke(state)\n",
        "    return {\n",
        "        \"messages\": [HumanMessage(content=result.content, name=\"portfolio_manager\")],\n",
        "        \"next\": \"END\"\n",
        "    }\n",
        "\n",
        "# The agent state\n",
        "class AgentState(TypedDict):\n",
        "    messages: Annotated[Sequence[BaseMessage], operator.add]\n",
        "    next: str\n",
        "\n",
        "# Create the workflow\n",
        "workflow = StateGraph(AgentState)\n",
        "\n",
        "# Create the analysts\n",
        "fundamental_analyst = create_react_agent(llm, tools=fundamental_tools)\n",
        "fundamental_analyst_node = functools.partial(agent_node, agent=fundamental_analyst, name=\"fundamental_analyst\")\n",
        "\n",
        "technical_analyst = create_react_agent(llm, tools=technical_tools)\n",
        "technical_analyst_node = functools.partial(agent_node, agent=technical_analyst, name=\"technical_analyst\")\n",
        "\n",
        "sentiment_analyst = create_react_agent(llm, tools=sentiment_tools)\n",
        "sentiment_analyst_node = functools.partial(agent_node, agent=sentiment_analyst, name=\"sentiment_analyst\")\n",
        "\n",
        "# Add nodes\n",
        "workflow.add_node(\"fundamental_analyst\", fundamental_analyst_node)\n",
        "workflow.add_node(\"technical_analyst\", technical_analyst_node)\n",
        "workflow.add_node(\"sentiment_analyst\", sentiment_analyst_node)\n",
        "workflow.add_node(\"supervisor\", supervisor_agent)\n",
        "workflow.add_node(\"final_summary\", final_summary_agent)\n",
        "\n",
        "# Connect edges\n",
        "for member in members:\n",
        "    workflow.add_edge(member, \"supervisor\")\n",
        "\n",
        "# Add conditional edges from supervisor\n",
        "conditional_map = {k: k for k in members}\n",
        "conditional_map[\"final_summary\"] = \"final_summary\"\n",
        "\n",
        "workflow.add_conditional_edges(\n",
        "    \"supervisor\",\n",
        "    lambda x: x[\"next\"],\n",
        "    conditional_map\n",
        ")\n",
        "\n",
        "# Add entry point and final edges\n",
        "workflow.add_edge(START, \"supervisor\")\n",
        "workflow.add_edge(\"final_summary\", END)\n",
        "\n",
        "# Compile the graph\n",
        "graph = workflow.compile()"
      ],
      "metadata": {
        "id": "TT2AggDicQt6"
      },
      "execution_count": null,
      "outputs": []
    },
    {
      "cell_type": "markdown",
      "source": [
        "# Run the Hedge Fund team"
      ],
      "metadata": {
        "id": "V7_AEtWz56-n"
      }
    },
    {
      "cell_type": "code",
      "source": [
        "from typing import Dict, Any\n",
        "import json\n",
        "import re\n",
        "from langchain_core.messages import HumanMessage\n",
        "from rich.console import Console\n",
        "from rich.panel import Panel\n",
        "from rich.text import Text\n",
        "from rich.rule import Rule\n",
        "\n",
        "console = Console()\n",
        "\n",
        "def format_bold_text(content: str) -> Text:\n",
        "    \"\"\"Convert **text** to rich Text with bold formatting.\"\"\"\n",
        "    text = Text()\n",
        "    pattern = r'\\*\\*(.*?)\\*\\*'\n",
        "\n",
        "    # Split the text by the bold markers\n",
        "    parts = re.split(pattern, content)\n",
        "\n",
        "    # Alternate between regular and bold text\n",
        "    for i, part in enumerate(parts):\n",
        "        if i % 2 == 0:\n",
        "            text.append(part)\n",
        "        else:\n",
        "            text.append(part, style=\"bold\")\n",
        "\n",
        "    return text\n",
        "\n",
        "def format_message_content(content: str) -> Union[str, Text]:\n",
        "    \"\"\"Format the message content, handling JSON and text with bold markers.\"\"\"\n",
        "    try:\n",
        "        # Try to parse as JSON for prettier formatting\n",
        "        data = json.loads(content)\n",
        "        return json.dumps(data, indent=2)\n",
        "    except:\n",
        "        # If not JSON, check for bold markers\n",
        "        if '**' in content:\n",
        "            return format_bold_text(content)\n",
        "        return content\n",
        "\n",
        "def format_agent_message(message: HumanMessage) -> Union[str, Text]:\n",
        "    \"\"\"Format a single agent message.\"\"\"\n",
        "    return format_message_content(message.content)\n",
        "\n",
        "def get_agent_title(agent: str, message: HumanMessage) -> str:\n",
        "    \"\"\"Get the title for the agent panel, with fallback handling.\"\"\"\n",
        "    base_title = agent.replace('_', ' ').title()\n",
        "\n",
        "    if hasattr(message, 'name') and message.name is not None:\n",
        "        try:\n",
        "            return message.name.replace('_', ' ').title()\n",
        "        except:\n",
        "            return base_title\n",
        "    return base_title\n",
        "\n",
        "def print_step(step: Dict[str, Any]) -> None:\n",
        "    \"\"\"Pretty print a single step of the agent execution.\"\"\"\n",
        "    for agent, data in step.items():\n",
        "        # Handle supervisor steps\n",
        "        if 'next' in data:\n",
        "            next_agent = data['next']\n",
        "            text = Text()\n",
        "            text.append(\"Portfolio Manager \", style=\"bold magenta\")\n",
        "            text.append(\"assigns next task to \", style=\"white\")\n",
        "\n",
        "            if next_agent == \"final_summary\":\n",
        "                text.append(\"FINAL SUMMARY\", style=\"bold yellow\")\n",
        "            elif next_agent == \"END\":\n",
        "                text.append(\"END\", style=\"bold red\")\n",
        "            else:\n",
        "                text.append(f\"{next_agent}\", style=\"bold green\")\n",
        "\n",
        "            console.print(Panel(\n",
        "                text,\n",
        "                title=\"[bold blue]Supervision Step\",\n",
        "                border_style=\"blue\"\n",
        "            ))\n",
        "\n",
        "        # Handle agent responses and final summary\n",
        "        if 'messages' in data:\n",
        "            message = data['messages'][0]\n",
        "            formatted_content = format_agent_message(message)\n",
        "\n",
        "            if agent == \"final_summary\":\n",
        "                # Final summary formatting\n",
        "                console.print(Rule(style=\"yellow\", title=\"Portfolio Analysis\"))\n",
        "                console.print(Panel(\n",
        "                    formatted_content,\n",
        "                    title=\"[bold yellow]Investment Summary and Recommendation\",\n",
        "                    border_style=\"yellow\",\n",
        "                    padding=(1, 2)\n",
        "                ))\n",
        "                console.print(Rule(style=\"yellow\"))\n",
        "            else:\n",
        "                # Regular analyst reports\n",
        "                title = get_agent_title(agent, message)\n",
        "                console.print(Panel(\n",
        "                    formatted_content,\n",
        "                    title=f\"[bold blue]{title} Report\",\n",
        "                    border_style=\"green\"\n",
        "                ))\n",
        "\n",
        "def stream_agent_execution(graph, input_data: Dict, config: Dict) -> None:\n",
        "    \"\"\"Stream and pretty print the agent execution.\"\"\"\n",
        "    console.print(\"\\n[bold blue]Starting Agent Execution...[/bold blue]\\n\")\n",
        "\n",
        "    for step in graph.stream(input_data, config):\n",
        "        if \"__end__\" not in step:\n",
        "            print_step(step)\n",
        "            console.print(\"\\n\")\n",
        "\n",
        "    console.print(\"[bold blue]Analysis Complete[/bold blue]\\n\")"
      ],
      "metadata": {
        "id": "t2E2mnnJ5LaN"
      },
      "execution_count": null,
      "outputs": []
    },
    {
      "cell_type": "code",
      "source": [
        "input_data = {\n",
        "    \"messages\": [HumanMessage(content=\"What is the latest news and revenue for AAPL?\")]\n",
        "}\n",
        "config = {\"recursion_limit\": 10}\n",
        "stream_agent_execution(graph, input_data, config)"
      ],
      "metadata": {
        "colab": {
          "base_uri": "https://localhost:8080/",
          "height": 1000
        },
        "id": "gLUCOhL85Lip",
        "outputId": "f35f2d8f-a280-473f-da60-cf95fa4627da"
      },
      "execution_count": null,
      "outputs": [
        {
          "output_type": "display_data",
          "data": {
            "text/plain": [
              "\n",
              "\u001b[1;34mStarting Agent Execution\u001b[0m\u001b[1;34m...\u001b[0m\n",
              "\n"
            ],
            "text/html": [
              "<pre style=\"white-space:pre;overflow-x:auto;line-height:normal;font-family:Menlo,'DejaVu Sans Mono',consolas,'Courier New',monospace\">\n",
              "<span style=\"color: #000080; text-decoration-color: #000080; font-weight: bold\">Starting Agent Execution...</span>\n",
              "\n",
              "</pre>\n"
            ]
          },
          "metadata": {}
        },
        {
          "output_type": "display_data",
          "data": {
            "text/plain": [
              "\u001b[34m╭─\u001b[0m\u001b[34m──────────────────────────────────────────────\u001b[0m\u001b[34m \u001b[0m\u001b[1;34mSupervision Step\u001b[0m\u001b[34m \u001b[0m\u001b[34m───────────────────────────────────────────────\u001b[0m\u001b[34m─╮\u001b[0m\n",
              "\u001b[34m│\u001b[0m \u001b[1;35mPortfolio Manager \u001b[0m\u001b[37massigns next task to \u001b[0m\u001b[1;32mfundamental_analyst\u001b[0m                                                      \u001b[34m│\u001b[0m\n",
              "\u001b[34m╰─────────────────────────────────────────────────────────────────────────────────────────────────────────────────╯\u001b[0m\n"
            ],
            "text/html": [
              "<pre style=\"white-space:pre;overflow-x:auto;line-height:normal;font-family:Menlo,'DejaVu Sans Mono',consolas,'Courier New',monospace\"><span style=\"color: #000080; text-decoration-color: #000080\">╭─────────────────────────────────────────────── </span><span style=\"color: #000080; text-decoration-color: #000080; font-weight: bold\">Supervision Step</span><span style=\"color: #000080; text-decoration-color: #000080\"> ────────────────────────────────────────────────╮</span>\n",
              "<span style=\"color: #000080; text-decoration-color: #000080\">│</span> <span style=\"color: #800080; text-decoration-color: #800080; font-weight: bold\">Portfolio Manager </span><span style=\"color: #c0c0c0; text-decoration-color: #c0c0c0\">assigns next task to </span><span style=\"color: #008000; text-decoration-color: #008000; font-weight: bold\">fundamental_analyst</span>                                                      <span style=\"color: #000080; text-decoration-color: #000080\">│</span>\n",
              "<span style=\"color: #000080; text-decoration-color: #000080\">╰─────────────────────────────────────────────────────────────────────────────────────────────────────────────────╯</span>\n",
              "</pre>\n"
            ]
          },
          "metadata": {}
        },
        {
          "output_type": "display_data",
          "data": {
            "text/plain": [
              "\n",
              "\n"
            ],
            "text/html": [
              "<pre style=\"white-space:pre;overflow-x:auto;line-height:normal;font-family:Menlo,'DejaVu Sans Mono',consolas,'Courier New',monospace\">\n",
              "\n",
              "</pre>\n"
            ]
          },
          "metadata": {}
        },
        {
          "output_type": "display_data",
          "data": {
            "text/plain": [
              "\u001b[32m╭─\u001b[0m\u001b[32m─────────────────────────────────────────\u001b[0m\u001b[32m \u001b[0m\u001b[1;34mFundamental Analyst Report\u001b[0m\u001b[32m \u001b[0m\u001b[32m──────────────────────────────────────────\u001b[0m\u001b[32m─╮\u001b[0m\n",
              "\u001b[32m│\u001b[0m {                                                                                                               \u001b[32m│\u001b[0m\n",
              "\u001b[32m│\u001b[0m   \"income_statements\": [                                                                                        \u001b[32m│\u001b[0m\n",
              "\u001b[32m│\u001b[0m     {                                                                                                           \u001b[32m│\u001b[0m\n",
              "\u001b[32m│\u001b[0m       \"ticker\": \"AAPL\",                                                                                         \u001b[32m│\u001b[0m\n",
              "\u001b[32m│\u001b[0m       \"calendar_date\": \"2024-06-30\",                                                                            \u001b[32m│\u001b[0m\n",
              "\u001b[32m│\u001b[0m       \"report_period\": \"2024-06-29\",                                                                            \u001b[32m│\u001b[0m\n",
              "\u001b[32m│\u001b[0m       \"period\": \"ttm\",                                                                                          \u001b[32m│\u001b[0m\n",
              "\u001b[32m│\u001b[0m       \"currency\": \"USD\",                                                                                        \u001b[32m│\u001b[0m\n",
              "\u001b[32m│\u001b[0m       \"revenue\": 385603000000.0,                                                                                \u001b[32m│\u001b[0m\n",
              "\u001b[32m│\u001b[0m       \"cost_of_revenue\": 208372000000.0,                                                                        \u001b[32m│\u001b[0m\n",
              "\u001b[32m│\u001b[0m       \"gross_profit\": 177231000000.0,                                                                           \u001b[32m│\u001b[0m\n",
              "\u001b[32m│\u001b[0m       \"operating_expense\": 56637000000.0,                                                                       \u001b[32m│\u001b[0m\n",
              "\u001b[32m│\u001b[0m       \"selling_general_and_administrative_expenses\": 25725000000.0,                                             \u001b[32m│\u001b[0m\n",
              "\u001b[32m│\u001b[0m       \"research_and_development\": 30912000000.0,                                                                \u001b[32m│\u001b[0m\n",
              "\u001b[32m│\u001b[0m       \"operating_income\": 120594000000.0,                                                                       \u001b[32m│\u001b[0m\n",
              "\u001b[32m│\u001b[0m       \"interest_expense\": 1002000000.0,                                                                         \u001b[32m│\u001b[0m\n",
              "\u001b[32m│\u001b[0m       \"ebit\": 121875000000.0,                                                                                   \u001b[32m│\u001b[0m\n",
              "\u001b[32m│\u001b[0m       \"income_tax_expense\": 18917000000.0,                                                                      \u001b[32m│\u001b[0m\n",
              "\u001b[32m│\u001b[0m       \"net_income_discontinued_operations\": 0.0,                                                                \u001b[32m│\u001b[0m\n",
              "\u001b[32m│\u001b[0m       \"net_income_non_controlling_interests\": 0.0,                                                              \u001b[32m│\u001b[0m\n",
              "\u001b[32m│\u001b[0m       \"net_income\": 101956000000.0,                                                                             \u001b[32m│\u001b[0m\n",
              "\u001b[32m│\u001b[0m       \"net_income_common_stock\": 101956000000.0,                                                                \u001b[32m│\u001b[0m\n",
              "\u001b[32m│\u001b[0m       \"preferred_dividends_impact\": 0.0,                                                                        \u001b[32m│\u001b[0m\n",
              "\u001b[32m│\u001b[0m       \"consolidated_income\": 101956000000.0,                                                                    \u001b[32m│\u001b[0m\n",
              "\u001b[32m│\u001b[0m       \"earnings_per_share\": 6.59,                                                                               \u001b[32m│\u001b[0m\n",
              "\u001b[32m│\u001b[0m       \"earnings_per_share_diluted\": 6.57,                                                                       \u001b[32m│\u001b[0m\n",
              "\u001b[32m│\u001b[0m       \"dividends_per_common_share\": 0.97,                                                                       \u001b[32m│\u001b[0m\n",
              "\u001b[32m│\u001b[0m       \"weighted_average_shares\": 15287521000.0,                                                                 \u001b[32m│\u001b[0m\n",
              "\u001b[32m│\u001b[0m       \"weighted_average_shares_diluted\": 15348175000.0                                                          \u001b[32m│\u001b[0m\n",
              "\u001b[32m│\u001b[0m     }                                                                                                           \u001b[32m│\u001b[0m\n",
              "\u001b[32m│\u001b[0m   ]                                                                                                             \u001b[32m│\u001b[0m\n",
              "\u001b[32m│\u001b[0m }                                                                                                               \u001b[32m│\u001b[0m\n",
              "\u001b[32m╰─────────────────────────────────────────────────────────────────────────────────────────────────────────────────╯\u001b[0m\n"
            ],
            "text/html": [
              "<pre style=\"white-space:pre;overflow-x:auto;line-height:normal;font-family:Menlo,'DejaVu Sans Mono',consolas,'Courier New',monospace\"><span style=\"color: #008000; text-decoration-color: #008000\">╭────────────────────────────────────────── </span><span style=\"color: #000080; text-decoration-color: #000080; font-weight: bold\">Fundamental Analyst Report</span><span style=\"color: #008000; text-decoration-color: #008000\"> ───────────────────────────────────────────╮</span>\n",
              "<span style=\"color: #008000; text-decoration-color: #008000\">│</span> {                                                                                                               <span style=\"color: #008000; text-decoration-color: #008000\">│</span>\n",
              "<span style=\"color: #008000; text-decoration-color: #008000\">│</span>   \"income_statements\": [                                                                                        <span style=\"color: #008000; text-decoration-color: #008000\">│</span>\n",
              "<span style=\"color: #008000; text-decoration-color: #008000\">│</span>     {                                                                                                           <span style=\"color: #008000; text-decoration-color: #008000\">│</span>\n",
              "<span style=\"color: #008000; text-decoration-color: #008000\">│</span>       \"ticker\": \"AAPL\",                                                                                         <span style=\"color: #008000; text-decoration-color: #008000\">│</span>\n",
              "<span style=\"color: #008000; text-decoration-color: #008000\">│</span>       \"calendar_date\": \"2024-06-30\",                                                                            <span style=\"color: #008000; text-decoration-color: #008000\">│</span>\n",
              "<span style=\"color: #008000; text-decoration-color: #008000\">│</span>       \"report_period\": \"2024-06-29\",                                                                            <span style=\"color: #008000; text-decoration-color: #008000\">│</span>\n",
              "<span style=\"color: #008000; text-decoration-color: #008000\">│</span>       \"period\": \"ttm\",                                                                                          <span style=\"color: #008000; text-decoration-color: #008000\">│</span>\n",
              "<span style=\"color: #008000; text-decoration-color: #008000\">│</span>       \"currency\": \"USD\",                                                                                        <span style=\"color: #008000; text-decoration-color: #008000\">│</span>\n",
              "<span style=\"color: #008000; text-decoration-color: #008000\">│</span>       \"revenue\": 385603000000.0,                                                                                <span style=\"color: #008000; text-decoration-color: #008000\">│</span>\n",
              "<span style=\"color: #008000; text-decoration-color: #008000\">│</span>       \"cost_of_revenue\": 208372000000.0,                                                                        <span style=\"color: #008000; text-decoration-color: #008000\">│</span>\n",
              "<span style=\"color: #008000; text-decoration-color: #008000\">│</span>       \"gross_profit\": 177231000000.0,                                                                           <span style=\"color: #008000; text-decoration-color: #008000\">│</span>\n",
              "<span style=\"color: #008000; text-decoration-color: #008000\">│</span>       \"operating_expense\": 56637000000.0,                                                                       <span style=\"color: #008000; text-decoration-color: #008000\">│</span>\n",
              "<span style=\"color: #008000; text-decoration-color: #008000\">│</span>       \"selling_general_and_administrative_expenses\": 25725000000.0,                                             <span style=\"color: #008000; text-decoration-color: #008000\">│</span>\n",
              "<span style=\"color: #008000; text-decoration-color: #008000\">│</span>       \"research_and_development\": 30912000000.0,                                                                <span style=\"color: #008000; text-decoration-color: #008000\">│</span>\n",
              "<span style=\"color: #008000; text-decoration-color: #008000\">│</span>       \"operating_income\": 120594000000.0,                                                                       <span style=\"color: #008000; text-decoration-color: #008000\">│</span>\n",
              "<span style=\"color: #008000; text-decoration-color: #008000\">│</span>       \"interest_expense\": 1002000000.0,                                                                         <span style=\"color: #008000; text-decoration-color: #008000\">│</span>\n",
              "<span style=\"color: #008000; text-decoration-color: #008000\">│</span>       \"ebit\": 121875000000.0,                                                                                   <span style=\"color: #008000; text-decoration-color: #008000\">│</span>\n",
              "<span style=\"color: #008000; text-decoration-color: #008000\">│</span>       \"income_tax_expense\": 18917000000.0,                                                                      <span style=\"color: #008000; text-decoration-color: #008000\">│</span>\n",
              "<span style=\"color: #008000; text-decoration-color: #008000\">│</span>       \"net_income_discontinued_operations\": 0.0,                                                                <span style=\"color: #008000; text-decoration-color: #008000\">│</span>\n",
              "<span style=\"color: #008000; text-decoration-color: #008000\">│</span>       \"net_income_non_controlling_interests\": 0.0,                                                              <span style=\"color: #008000; text-decoration-color: #008000\">│</span>\n",
              "<span style=\"color: #008000; text-decoration-color: #008000\">│</span>       \"net_income\": 101956000000.0,                                                                             <span style=\"color: #008000; text-decoration-color: #008000\">│</span>\n",
              "<span style=\"color: #008000; text-decoration-color: #008000\">│</span>       \"net_income_common_stock\": 101956000000.0,                                                                <span style=\"color: #008000; text-decoration-color: #008000\">│</span>\n",
              "<span style=\"color: #008000; text-decoration-color: #008000\">│</span>       \"preferred_dividends_impact\": 0.0,                                                                        <span style=\"color: #008000; text-decoration-color: #008000\">│</span>\n",
              "<span style=\"color: #008000; text-decoration-color: #008000\">│</span>       \"consolidated_income\": 101956000000.0,                                                                    <span style=\"color: #008000; text-decoration-color: #008000\">│</span>\n",
              "<span style=\"color: #008000; text-decoration-color: #008000\">│</span>       \"earnings_per_share\": 6.59,                                                                               <span style=\"color: #008000; text-decoration-color: #008000\">│</span>\n",
              "<span style=\"color: #008000; text-decoration-color: #008000\">│</span>       \"earnings_per_share_diluted\": 6.57,                                                                       <span style=\"color: #008000; text-decoration-color: #008000\">│</span>\n",
              "<span style=\"color: #008000; text-decoration-color: #008000\">│</span>       \"dividends_per_common_share\": 0.97,                                                                       <span style=\"color: #008000; text-decoration-color: #008000\">│</span>\n",
              "<span style=\"color: #008000; text-decoration-color: #008000\">│</span>       \"weighted_average_shares\": 15287521000.0,                                                                 <span style=\"color: #008000; text-decoration-color: #008000\">│</span>\n",
              "<span style=\"color: #008000; text-decoration-color: #008000\">│</span>       \"weighted_average_shares_diluted\": 15348175000.0                                                          <span style=\"color: #008000; text-decoration-color: #008000\">│</span>\n",
              "<span style=\"color: #008000; text-decoration-color: #008000\">│</span>     }                                                                                                           <span style=\"color: #008000; text-decoration-color: #008000\">│</span>\n",
              "<span style=\"color: #008000; text-decoration-color: #008000\">│</span>   ]                                                                                                             <span style=\"color: #008000; text-decoration-color: #008000\">│</span>\n",
              "<span style=\"color: #008000; text-decoration-color: #008000\">│</span> }                                                                                                               <span style=\"color: #008000; text-decoration-color: #008000\">│</span>\n",
              "<span style=\"color: #008000; text-decoration-color: #008000\">╰─────────────────────────────────────────────────────────────────────────────────────────────────────────────────╯</span>\n",
              "</pre>\n"
            ]
          },
          "metadata": {}
        },
        {
          "output_type": "display_data",
          "data": {
            "text/plain": [
              "\n",
              "\n"
            ],
            "text/html": [
              "<pre style=\"white-space:pre;overflow-x:auto;line-height:normal;font-family:Menlo,'DejaVu Sans Mono',consolas,'Courier New',monospace\">\n",
              "\n",
              "</pre>\n"
            ]
          },
          "metadata": {}
        },
        {
          "output_type": "display_data",
          "data": {
            "text/plain": [
              "\u001b[34m╭─\u001b[0m\u001b[34m──────────────────────────────────────────────\u001b[0m\u001b[34m \u001b[0m\u001b[1;34mSupervision Step\u001b[0m\u001b[34m \u001b[0m\u001b[34m───────────────────────────────────────────────\u001b[0m\u001b[34m─╮\u001b[0m\n",
              "\u001b[34m│\u001b[0m \u001b[1;35mPortfolio Manager \u001b[0m\u001b[37massigns next task to \u001b[0m\u001b[1;32msentiment_analyst\u001b[0m                                                        \u001b[34m│\u001b[0m\n",
              "\u001b[34m╰─────────────────────────────────────────────────────────────────────────────────────────────────────────────────╯\u001b[0m\n"
            ],
            "text/html": [
              "<pre style=\"white-space:pre;overflow-x:auto;line-height:normal;font-family:Menlo,'DejaVu Sans Mono',consolas,'Courier New',monospace\"><span style=\"color: #000080; text-decoration-color: #000080\">╭─────────────────────────────────────────────── </span><span style=\"color: #000080; text-decoration-color: #000080; font-weight: bold\">Supervision Step</span><span style=\"color: #000080; text-decoration-color: #000080\"> ────────────────────────────────────────────────╮</span>\n",
              "<span style=\"color: #000080; text-decoration-color: #000080\">│</span> <span style=\"color: #800080; text-decoration-color: #800080; font-weight: bold\">Portfolio Manager </span><span style=\"color: #c0c0c0; text-decoration-color: #c0c0c0\">assigns next task to </span><span style=\"color: #008000; text-decoration-color: #008000; font-weight: bold\">sentiment_analyst</span>                                                        <span style=\"color: #000080; text-decoration-color: #000080\">│</span>\n",
              "<span style=\"color: #000080; text-decoration-color: #000080\">╰─────────────────────────────────────────────────────────────────────────────────────────────────────────────────╯</span>\n",
              "</pre>\n"
            ]
          },
          "metadata": {}
        },
        {
          "output_type": "display_data",
          "data": {
            "text/plain": [
              "\n",
              "\n"
            ],
            "text/html": [
              "<pre style=\"white-space:pre;overflow-x:auto;line-height:normal;font-family:Menlo,'DejaVu Sans Mono',consolas,'Courier New',monospace\">\n",
              "\n",
              "</pre>\n"
            ]
          },
          "metadata": {}
        },
        {
          "output_type": "display_data",
          "data": {
            "text/plain": [
              "\u001b[32m╭─\u001b[0m\u001b[32m──────────────────────────────────────────\u001b[0m\u001b[32m \u001b[0m\u001b[1;34mSentiment Analyst Report\u001b[0m\u001b[32m \u001b[0m\u001b[32m───────────────────────────────────────────\u001b[0m\u001b[32m─╮\u001b[0m\n",
              "\u001b[32m│\u001b[0m The latest revenue for AAPL, as of the report period ending on June 29, 2024, is $385,603,000,000.00 USD. The   \u001b[32m│\u001b[0m\n",
              "\u001b[32m│\u001b[0m net income for the same period is $101,956,000,000.00 USD [^1^].                                                \u001b[32m│\u001b[0m\n",
              "\u001b[32m│\u001b[0m                                                                                                                 \u001b[32m│\u001b[0m\n",
              "\u001b[32m│\u001b[0m As for the latest news on AAPL, there's a lot of focus on where Apple stands compared to other AI stocks.       \u001b[32m│\u001b[0m\n",
              "\u001b[32m│\u001b[0m There's also talk about the current market situation and a bullish case for the market. For more detailed news, \u001b[32m│\u001b[0m\n",
              "\u001b[32m│\u001b[0m you can check out the following sources:                                                                        \u001b[32m│\u001b[0m\n",
              "\u001b[32m│\u001b[0m                                                                                                                 \u001b[32m│\u001b[0m\n",
              "\u001b[32m│\u001b[0m 1. [Yahoo Finance](https://ca.finance.yahoo.com/quote/AAPL/news/)                                               \u001b[32m│\u001b[0m\n",
              "\u001b[32m│\u001b[0m 2. [Nasdaq](https://www.nasdaq.com/market-activity/stocks/aapl/news-headlines)                                  \u001b[32m│\u001b[0m\n",
              "\u001b[32m│\u001b[0m 3. [SG Yahoo Finance](https://sg.finance.yahoo.com/quote/AAPL/news/)                                            \u001b[32m│\u001b[0m\n",
              "\u001b[32m│\u001b[0m 4. [Apple Newsroom](https://www.apple.com/newsroom/2022/10/apple-reports-fourth-quarter-results/)               \u001b[32m│\u001b[0m\n",
              "\u001b[32m│\u001b[0m                                                                                                                 \u001b[32m│\u001b[0m\n",
              "\u001b[32m│\u001b[0m Please note that the news landscape changes rapidly, and for the most accurate and up-to-date news, it's best   \u001b[32m│\u001b[0m\n",
              "\u001b[32m│\u001b[0m to check these sources directly.                                                                                \u001b[32m│\u001b[0m\n",
              "\u001b[32m│\u001b[0m                                                                                                                 \u001b[32m│\u001b[0m\n",
              "\u001b[32m│\u001b[0m [^1^]: Source: Fundamental Analyst API                                                                          \u001b[32m│\u001b[0m\n",
              "\u001b[32m│\u001b[0m                                                                                                                 \u001b[32m│\u001b[0m\n",
              "\u001b[32m╰─────────────────────────────────────────────────────────────────────────────────────────────────────────────────╯\u001b[0m\n"
            ],
            "text/html": [
              "<pre style=\"white-space:pre;overflow-x:auto;line-height:normal;font-family:Menlo,'DejaVu Sans Mono',consolas,'Courier New',monospace\"><span style=\"color: #008000; text-decoration-color: #008000\">╭─────────────────────────────────────────── </span><span style=\"color: #000080; text-decoration-color: #000080; font-weight: bold\">Sentiment Analyst Report</span><span style=\"color: #008000; text-decoration-color: #008000\"> ────────────────────────────────────────────╮</span>\n",
              "<span style=\"color: #008000; text-decoration-color: #008000\">│</span> The latest revenue for AAPL, as of the report period ending on June 29, 2024, is $385,603,000,000.00 USD. The   <span style=\"color: #008000; text-decoration-color: #008000\">│</span>\n",
              "<span style=\"color: #008000; text-decoration-color: #008000\">│</span> net income for the same period is $101,956,000,000.00 USD [^1^].                                                <span style=\"color: #008000; text-decoration-color: #008000\">│</span>\n",
              "<span style=\"color: #008000; text-decoration-color: #008000\">│</span>                                                                                                                 <span style=\"color: #008000; text-decoration-color: #008000\">│</span>\n",
              "<span style=\"color: #008000; text-decoration-color: #008000\">│</span> As for the latest news on AAPL, there's a lot of focus on where Apple stands compared to other AI stocks.       <span style=\"color: #008000; text-decoration-color: #008000\">│</span>\n",
              "<span style=\"color: #008000; text-decoration-color: #008000\">│</span> There's also talk about the current market situation and a bullish case for the market. For more detailed news, <span style=\"color: #008000; text-decoration-color: #008000\">│</span>\n",
              "<span style=\"color: #008000; text-decoration-color: #008000\">│</span> you can check out the following sources:                                                                        <span style=\"color: #008000; text-decoration-color: #008000\">│</span>\n",
              "<span style=\"color: #008000; text-decoration-color: #008000\">│</span>                                                                                                                 <span style=\"color: #008000; text-decoration-color: #008000\">│</span>\n",
              "<span style=\"color: #008000; text-decoration-color: #008000\">│</span> 1. [Yahoo Finance](https://ca.finance.yahoo.com/quote/AAPL/news/)                                               <span style=\"color: #008000; text-decoration-color: #008000\">│</span>\n",
              "<span style=\"color: #008000; text-decoration-color: #008000\">│</span> 2. [Nasdaq](https://www.nasdaq.com/market-activity/stocks/aapl/news-headlines)                                  <span style=\"color: #008000; text-decoration-color: #008000\">│</span>\n",
              "<span style=\"color: #008000; text-decoration-color: #008000\">│</span> 3. [SG Yahoo Finance](https://sg.finance.yahoo.com/quote/AAPL/news/)                                            <span style=\"color: #008000; text-decoration-color: #008000\">│</span>\n",
              "<span style=\"color: #008000; text-decoration-color: #008000\">│</span> 4. [Apple Newsroom](https://www.apple.com/newsroom/2022/10/apple-reports-fourth-quarter-results/)               <span style=\"color: #008000; text-decoration-color: #008000\">│</span>\n",
              "<span style=\"color: #008000; text-decoration-color: #008000\">│</span>                                                                                                                 <span style=\"color: #008000; text-decoration-color: #008000\">│</span>\n",
              "<span style=\"color: #008000; text-decoration-color: #008000\">│</span> Please note that the news landscape changes rapidly, and for the most accurate and up-to-date news, it's best   <span style=\"color: #008000; text-decoration-color: #008000\">│</span>\n",
              "<span style=\"color: #008000; text-decoration-color: #008000\">│</span> to check these sources directly.                                                                                <span style=\"color: #008000; text-decoration-color: #008000\">│</span>\n",
              "<span style=\"color: #008000; text-decoration-color: #008000\">│</span>                                                                                                                 <span style=\"color: #008000; text-decoration-color: #008000\">│</span>\n",
              "<span style=\"color: #008000; text-decoration-color: #008000\">│</span> [^1^]: Source: Fundamental Analyst API                                                                          <span style=\"color: #008000; text-decoration-color: #008000\">│</span>\n",
              "<span style=\"color: #008000; text-decoration-color: #008000\">│</span>                                                                                                                 <span style=\"color: #008000; text-decoration-color: #008000\">│</span>\n",
              "<span style=\"color: #008000; text-decoration-color: #008000\">╰─────────────────────────────────────────────────────────────────────────────────────────────────────────────────╯</span>\n",
              "</pre>\n"
            ]
          },
          "metadata": {}
        },
        {
          "output_type": "display_data",
          "data": {
            "text/plain": [
              "\n",
              "\n"
            ],
            "text/html": [
              "<pre style=\"white-space:pre;overflow-x:auto;line-height:normal;font-family:Menlo,'DejaVu Sans Mono',consolas,'Courier New',monospace\">\n",
              "\n",
              "</pre>\n"
            ]
          },
          "metadata": {}
        },
        {
          "output_type": "display_data",
          "data": {
            "text/plain": [
              "\u001b[34m╭─\u001b[0m\u001b[34m──────────────────────────────────────────────\u001b[0m\u001b[34m \u001b[0m\u001b[1;34mSupervision Step\u001b[0m\u001b[34m \u001b[0m\u001b[34m───────────────────────────────────────────────\u001b[0m\u001b[34m─╮\u001b[0m\n",
              "\u001b[34m│\u001b[0m \u001b[1;35mPortfolio Manager \u001b[0m\u001b[37massigns next task to \u001b[0m\u001b[1;33mFINAL SUMMARY\u001b[0m                                                            \u001b[34m│\u001b[0m\n",
              "\u001b[34m╰─────────────────────────────────────────────────────────────────────────────────────────────────────────────────╯\u001b[0m\n"
            ],
            "text/html": [
              "<pre style=\"white-space:pre;overflow-x:auto;line-height:normal;font-family:Menlo,'DejaVu Sans Mono',consolas,'Courier New',monospace\"><span style=\"color: #000080; text-decoration-color: #000080\">╭─────────────────────────────────────────────── </span><span style=\"color: #000080; text-decoration-color: #000080; font-weight: bold\">Supervision Step</span><span style=\"color: #000080; text-decoration-color: #000080\"> ────────────────────────────────────────────────╮</span>\n",
              "<span style=\"color: #000080; text-decoration-color: #000080\">│</span> <span style=\"color: #800080; text-decoration-color: #800080; font-weight: bold\">Portfolio Manager </span><span style=\"color: #c0c0c0; text-decoration-color: #c0c0c0\">assigns next task to </span><span style=\"color: #808000; text-decoration-color: #808000; font-weight: bold\">FINAL SUMMARY</span>                                                            <span style=\"color: #000080; text-decoration-color: #000080\">│</span>\n",
              "<span style=\"color: #000080; text-decoration-color: #000080\">╰─────────────────────────────────────────────────────────────────────────────────────────────────────────────────╯</span>\n",
              "</pre>\n"
            ]
          },
          "metadata": {}
        },
        {
          "output_type": "display_data",
          "data": {
            "text/plain": [
              "\u001b[32m╭─\u001b[0m\u001b[32m──────────────────────────────────────────────\u001b[0m\u001b[32m \u001b[0m\u001b[1;34mSupervisor Report\u001b[0m\u001b[32m \u001b[0m\u001b[32m──────────────────────────────────────────────\u001b[0m\u001b[32m─╮\u001b[0m\n",
              "\u001b[32m│\u001b[0m What is the latest news and revenue for AAPL?                                                                   \u001b[32m│\u001b[0m\n",
              "\u001b[32m╰─────────────────────────────────────────────────────────────────────────────────────────────────────────────────╯\u001b[0m\n"
            ],
            "text/html": [
              "<pre style=\"white-space:pre;overflow-x:auto;line-height:normal;font-family:Menlo,'DejaVu Sans Mono',consolas,'Courier New',monospace\"><span style=\"color: #008000; text-decoration-color: #008000\">╭─────────────────────────────────────────────── </span><span style=\"color: #000080; text-decoration-color: #000080; font-weight: bold\">Supervisor Report</span><span style=\"color: #008000; text-decoration-color: #008000\"> ───────────────────────────────────────────────╮</span>\n",
              "<span style=\"color: #008000; text-decoration-color: #008000\">│</span> What is the latest news and revenue for AAPL?                                                                   <span style=\"color: #008000; text-decoration-color: #008000\">│</span>\n",
              "<span style=\"color: #008000; text-decoration-color: #008000\">╰─────────────────────────────────────────────────────────────────────────────────────────────────────────────────╯</span>\n",
              "</pre>\n"
            ]
          },
          "metadata": {}
        },
        {
          "output_type": "display_data",
          "data": {
            "text/plain": [
              "\n",
              "\n"
            ],
            "text/html": [
              "<pre style=\"white-space:pre;overflow-x:auto;line-height:normal;font-family:Menlo,'DejaVu Sans Mono',consolas,'Courier New',monospace\">\n",
              "\n",
              "</pre>\n"
            ]
          },
          "metadata": {}
        },
        {
          "output_type": "display_data",
          "data": {
            "text/plain": [
              "\u001b[34m╭─\u001b[0m\u001b[34m──────────────────────────────────────────────\u001b[0m\u001b[34m \u001b[0m\u001b[1;34mSupervision Step\u001b[0m\u001b[34m \u001b[0m\u001b[34m───────────────────────────────────────────────\u001b[0m\u001b[34m─╮\u001b[0m\n",
              "\u001b[34m│\u001b[0m \u001b[1;35mPortfolio Manager \u001b[0m\u001b[37massigns next task to \u001b[0m\u001b[1;31mEND\u001b[0m                                                                      \u001b[34m│\u001b[0m\n",
              "\u001b[34m╰─────────────────────────────────────────────────────────────────────────────────────────────────────────────────╯\u001b[0m\n"
            ],
            "text/html": [
              "<pre style=\"white-space:pre;overflow-x:auto;line-height:normal;font-family:Menlo,'DejaVu Sans Mono',consolas,'Courier New',monospace\"><span style=\"color: #000080; text-decoration-color: #000080\">╭─────────────────────────────────────────────── </span><span style=\"color: #000080; text-decoration-color: #000080; font-weight: bold\">Supervision Step</span><span style=\"color: #000080; text-decoration-color: #000080\"> ────────────────────────────────────────────────╮</span>\n",
              "<span style=\"color: #000080; text-decoration-color: #000080\">│</span> <span style=\"color: #800080; text-decoration-color: #800080; font-weight: bold\">Portfolio Manager </span><span style=\"color: #c0c0c0; text-decoration-color: #c0c0c0\">assigns next task to </span><span style=\"color: #800000; text-decoration-color: #800000; font-weight: bold\">END</span>                                                                      <span style=\"color: #000080; text-decoration-color: #000080\">│</span>\n",
              "<span style=\"color: #000080; text-decoration-color: #000080\">╰─────────────────────────────────────────────────────────────────────────────────────────────────────────────────╯</span>\n",
              "</pre>\n"
            ]
          },
          "metadata": {}
        },
        {
          "output_type": "display_data",
          "data": {
            "text/plain": [
              "\u001b[33m─────────────────────────────────────────────── \u001b[0mPortfolio Analysis\u001b[33m ────────────────────────────────────────────────\u001b[0m\n"
            ],
            "text/html": [
              "<pre style=\"white-space:pre;overflow-x:auto;line-height:normal;font-family:Menlo,'DejaVu Sans Mono',consolas,'Courier New',monospace\"><span style=\"color: #808000; text-decoration-color: #808000\">─────────────────────────────────────────────── </span>Portfolio Analysis<span style=\"color: #808000; text-decoration-color: #808000\"> ────────────────────────────────────────────────</span>\n",
              "</pre>\n"
            ]
          },
          "metadata": {}
        },
        {
          "output_type": "display_data",
          "data": {
            "text/plain": [
              "\u001b[33m╭─\u001b[0m\u001b[33m────────────────────────────────────\u001b[0m\u001b[33m \u001b[0m\u001b[1;33mInvestment Summary and Recommendation\u001b[0m\u001b[33m \u001b[0m\u001b[33m────────────────────────────────────\u001b[0m\u001b[33m─╮\u001b[0m\n",
              "\u001b[33m│\u001b[0m                                                                                                                 \u001b[33m│\u001b[0m\n",
              "\u001b[33m│\u001b[0m  1. Key Financial Metrics and their Implications:                                                               \u001b[33m│\u001b[0m\n",
              "\u001b[33m│\u001b[0m                                                                                                                 \u001b[33m│\u001b[0m\n",
              "\u001b[33m│\u001b[0m     Apple's latest revenue stands at $385.60 billion, and the net income is $101.96 billion. The company also   \u001b[33m│\u001b[0m\n",
              "\u001b[33m│\u001b[0m  reported earnings per share of 6.59 and diluted earnings per share of 6.57. These financial metrics indicate   \u001b[33m│\u001b[0m\n",
              "\u001b[33m│\u001b[0m  that Apple is highly profitable and generates a substantial amount of revenue. The firm's ability to maintain  \u001b[33m│\u001b[0m\n",
              "\u001b[33m│\u001b[0m  a high level of income points to strong business operations and efficient management.                          \u001b[33m│\u001b[0m\n",
              "\u001b[33m│\u001b[0m                                                                                                                 \u001b[33m│\u001b[0m\n",
              "\u001b[33m│\u001b[0m  2. Technical Analysis Insights:                                                                                \u001b[33m│\u001b[0m\n",
              "\u001b[33m│\u001b[0m                                                                                                                 \u001b[33m│\u001b[0m\n",
              "\u001b[33m│\u001b[0m     Unfortunately, there were no technical analysis insights provided in the reports above. Technical analysis  \u001b[33m│\u001b[0m\n",
              "\u001b[33m│\u001b[0m  typically includes information about price trends, volume, and momentum.                                       \u001b[33m│\u001b[0m\n",
              "\u001b[33m│\u001b[0m                                                                                                                 \u001b[33m│\u001b[0m\n",
              "\u001b[33m│\u001b[0m  3. Market Sentiment and News Impact:                                                                           \u001b[33m│\u001b[0m\n",
              "\u001b[33m│\u001b[0m                                                                                                                 \u001b[33m│\u001b[0m\n",
              "\u001b[33m│\u001b[0m     The market sentiment for Apple is generally positive. The latest news indicates a focus on Apple's          \u001b[33m│\u001b[0m\n",
              "\u001b[33m│\u001b[0m  position in relation to other AI stocks. The current market situation also presents a bullish case for the     \u001b[33m│\u001b[0m\n",
              "\u001b[33m│\u001b[0m  market, which is good news for Apple. However, it is recommended to regularly check various news sources for   \u001b[33m│\u001b[0m\n",
              "\u001b[33m│\u001b[0m  the most accurate and up-to-date information.                                                                  \u001b[33m│\u001b[0m\n",
              "\u001b[33m│\u001b[0m                                                                                                                 \u001b[33m│\u001b[0m\n",
              "\u001b[33m│\u001b[0m  4. Overall Investment Recommendation:                                                                          \u001b[33m│\u001b[0m\n",
              "\u001b[33m│\u001b[0m                                                                                                                 \u001b[33m│\u001b[0m\n",
              "\u001b[33m│\u001b[0m     Based on the strong financial metrics and positive market sentiment, the recommendation would be to         \u001b[33m│\u001b[0m\n",
              "\u001b[33m│\u001b[0m  consider Apple as a strong candidate for investment. The company's robust financial health, coupled with the   \u001b[33m│\u001b[0m\n",
              "\u001b[33m│\u001b[0m  positive market sentiment, makes it a potentially profitable investment. However, investors are advised to     \u001b[33m│\u001b[0m\n",
              "\u001b[33m│\u001b[0m  consider their personal investment goals, risk tolerance, and the need for diversification in their portfolio  \u001b[33m│\u001b[0m\n",
              "\u001b[33m│\u001b[0m  before making any investment decisions.                                                                        \u001b[33m│\u001b[0m\n",
              "\u001b[33m│\u001b[0m                                                                                                                 \u001b[33m│\u001b[0m\n",
              "\u001b[33m│\u001b[0m  Note: This recommendation does not constitute financial advice and investors should conduct their own          \u001b[33m│\u001b[0m\n",
              "\u001b[33m│\u001b[0m  research or consult with a financial advisor before making investment decisions.                               \u001b[33m│\u001b[0m\n",
              "\u001b[33m│\u001b[0m                                                                                                                 \u001b[33m│\u001b[0m\n",
              "\u001b[33m╰─────────────────────────────────────────────────────────────────────────────────────────────────────────────────╯\u001b[0m\n"
            ],
            "text/html": [
              "<pre style=\"white-space:pre;overflow-x:auto;line-height:normal;font-family:Menlo,'DejaVu Sans Mono',consolas,'Courier New',monospace\"><span style=\"color: #808000; text-decoration-color: #808000\">╭───────────────────────────────────── </span><span style=\"color: #808000; text-decoration-color: #808000; font-weight: bold\">Investment Summary and Recommendation</span><span style=\"color: #808000; text-decoration-color: #808000\"> ─────────────────────────────────────╮</span>\n",
              "<span style=\"color: #808000; text-decoration-color: #808000\">│</span>                                                                                                                 <span style=\"color: #808000; text-decoration-color: #808000\">│</span>\n",
              "<span style=\"color: #808000; text-decoration-color: #808000\">│</span>  1. Key Financial Metrics and their Implications:                                                               <span style=\"color: #808000; text-decoration-color: #808000\">│</span>\n",
              "<span style=\"color: #808000; text-decoration-color: #808000\">│</span>                                                                                                                 <span style=\"color: #808000; text-decoration-color: #808000\">│</span>\n",
              "<span style=\"color: #808000; text-decoration-color: #808000\">│</span>     Apple's latest revenue stands at $385.60 billion, and the net income is $101.96 billion. The company also   <span style=\"color: #808000; text-decoration-color: #808000\">│</span>\n",
              "<span style=\"color: #808000; text-decoration-color: #808000\">│</span>  reported earnings per share of 6.59 and diluted earnings per share of 6.57. These financial metrics indicate   <span style=\"color: #808000; text-decoration-color: #808000\">│</span>\n",
              "<span style=\"color: #808000; text-decoration-color: #808000\">│</span>  that Apple is highly profitable and generates a substantial amount of revenue. The firm's ability to maintain  <span style=\"color: #808000; text-decoration-color: #808000\">│</span>\n",
              "<span style=\"color: #808000; text-decoration-color: #808000\">│</span>  a high level of income points to strong business operations and efficient management.                          <span style=\"color: #808000; text-decoration-color: #808000\">│</span>\n",
              "<span style=\"color: #808000; text-decoration-color: #808000\">│</span>                                                                                                                 <span style=\"color: #808000; text-decoration-color: #808000\">│</span>\n",
              "<span style=\"color: #808000; text-decoration-color: #808000\">│</span>  2. Technical Analysis Insights:                                                                                <span style=\"color: #808000; text-decoration-color: #808000\">│</span>\n",
              "<span style=\"color: #808000; text-decoration-color: #808000\">│</span>                                                                                                                 <span style=\"color: #808000; text-decoration-color: #808000\">│</span>\n",
              "<span style=\"color: #808000; text-decoration-color: #808000\">│</span>     Unfortunately, there were no technical analysis insights provided in the reports above. Technical analysis  <span style=\"color: #808000; text-decoration-color: #808000\">│</span>\n",
              "<span style=\"color: #808000; text-decoration-color: #808000\">│</span>  typically includes information about price trends, volume, and momentum.                                       <span style=\"color: #808000; text-decoration-color: #808000\">│</span>\n",
              "<span style=\"color: #808000; text-decoration-color: #808000\">│</span>                                                                                                                 <span style=\"color: #808000; text-decoration-color: #808000\">│</span>\n",
              "<span style=\"color: #808000; text-decoration-color: #808000\">│</span>  3. Market Sentiment and News Impact:                                                                           <span style=\"color: #808000; text-decoration-color: #808000\">│</span>\n",
              "<span style=\"color: #808000; text-decoration-color: #808000\">│</span>                                                                                                                 <span style=\"color: #808000; text-decoration-color: #808000\">│</span>\n",
              "<span style=\"color: #808000; text-decoration-color: #808000\">│</span>     The market sentiment for Apple is generally positive. The latest news indicates a focus on Apple's          <span style=\"color: #808000; text-decoration-color: #808000\">│</span>\n",
              "<span style=\"color: #808000; text-decoration-color: #808000\">│</span>  position in relation to other AI stocks. The current market situation also presents a bullish case for the     <span style=\"color: #808000; text-decoration-color: #808000\">│</span>\n",
              "<span style=\"color: #808000; text-decoration-color: #808000\">│</span>  market, which is good news for Apple. However, it is recommended to regularly check various news sources for   <span style=\"color: #808000; text-decoration-color: #808000\">│</span>\n",
              "<span style=\"color: #808000; text-decoration-color: #808000\">│</span>  the most accurate and up-to-date information.                                                                  <span style=\"color: #808000; text-decoration-color: #808000\">│</span>\n",
              "<span style=\"color: #808000; text-decoration-color: #808000\">│</span>                                                                                                                 <span style=\"color: #808000; text-decoration-color: #808000\">│</span>\n",
              "<span style=\"color: #808000; text-decoration-color: #808000\">│</span>  4. Overall Investment Recommendation:                                                                          <span style=\"color: #808000; text-decoration-color: #808000\">│</span>\n",
              "<span style=\"color: #808000; text-decoration-color: #808000\">│</span>                                                                                                                 <span style=\"color: #808000; text-decoration-color: #808000\">│</span>\n",
              "<span style=\"color: #808000; text-decoration-color: #808000\">│</span>     Based on the strong financial metrics and positive market sentiment, the recommendation would be to         <span style=\"color: #808000; text-decoration-color: #808000\">│</span>\n",
              "<span style=\"color: #808000; text-decoration-color: #808000\">│</span>  consider Apple as a strong candidate for investment. The company's robust financial health, coupled with the   <span style=\"color: #808000; text-decoration-color: #808000\">│</span>\n",
              "<span style=\"color: #808000; text-decoration-color: #808000\">│</span>  positive market sentiment, makes it a potentially profitable investment. However, investors are advised to     <span style=\"color: #808000; text-decoration-color: #808000\">│</span>\n",
              "<span style=\"color: #808000; text-decoration-color: #808000\">│</span>  consider their personal investment goals, risk tolerance, and the need for diversification in their portfolio  <span style=\"color: #808000; text-decoration-color: #808000\">│</span>\n",
              "<span style=\"color: #808000; text-decoration-color: #808000\">│</span>  before making any investment decisions.                                                                        <span style=\"color: #808000; text-decoration-color: #808000\">│</span>\n",
              "<span style=\"color: #808000; text-decoration-color: #808000\">│</span>                                                                                                                 <span style=\"color: #808000; text-decoration-color: #808000\">│</span>\n",
              "<span style=\"color: #808000; text-decoration-color: #808000\">│</span>  Note: This recommendation does not constitute financial advice and investors should conduct their own          <span style=\"color: #808000; text-decoration-color: #808000\">│</span>\n",
              "<span style=\"color: #808000; text-decoration-color: #808000\">│</span>  research or consult with a financial advisor before making investment decisions.                               <span style=\"color: #808000; text-decoration-color: #808000\">│</span>\n",
              "<span style=\"color: #808000; text-decoration-color: #808000\">│</span>                                                                                                                 <span style=\"color: #808000; text-decoration-color: #808000\">│</span>\n",
              "<span style=\"color: #808000; text-decoration-color: #808000\">╰─────────────────────────────────────────────────────────────────────────────────────────────────────────────────╯</span>\n",
              "</pre>\n"
            ]
          },
          "metadata": {}
        },
        {
          "output_type": "display_data",
          "data": {
            "text/plain": [
              "\u001b[33m───────────────────────────────────────────────────────────────────────────────────────────────────────────────────\u001b[0m\n"
            ],
            "text/html": [
              "<pre style=\"white-space:pre;overflow-x:auto;line-height:normal;font-family:Menlo,'DejaVu Sans Mono',consolas,'Courier New',monospace\"><span style=\"color: #808000; text-decoration-color: #808000\">───────────────────────────────────────────────────────────────────────────────────────────────────────────────────</span>\n",
              "</pre>\n"
            ]
          },
          "metadata": {}
        },
        {
          "output_type": "display_data",
          "data": {
            "text/plain": [
              "\n",
              "\n"
            ],
            "text/html": [
              "<pre style=\"white-space:pre;overflow-x:auto;line-height:normal;font-family:Menlo,'DejaVu Sans Mono',consolas,'Courier New',monospace\">\n",
              "\n",
              "</pre>\n"
            ]
          },
          "metadata": {}
        },
        {
          "output_type": "display_data",
          "data": {
            "text/plain": [
              "\u001b[1;34mAnalysis Complete\u001b[0m\n",
              "\n"
            ],
            "text/html": [
              "<pre style=\"white-space:pre;overflow-x:auto;line-height:normal;font-family:Menlo,'DejaVu Sans Mono',consolas,'Courier New',monospace\"><span style=\"color: #000080; text-decoration-color: #000080; font-weight: bold\">Analysis Complete</span>\n",
              "\n",
              "</pre>\n"
            ]
          },
          "metadata": {}
        }
      ]
    },
    {
      "cell_type": "code",
      "source": [],
      "metadata": {
        "id": "hP1fZBHPyv8l"
      },
      "execution_count": null,
      "outputs": []
    }
  ]
}